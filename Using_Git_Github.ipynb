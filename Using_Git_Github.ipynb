{
  "nbformat": 4,
  "nbformat_minor": 0,
  "metadata": {
    "colab": {
      "provenance": [],
      "authorship_tag": "ABX9TyOHBgPtHTlbcXsUISgpMmhU",
      "include_colab_link": true
    },
    "kernelspec": {
      "name": "python3",
      "display_name": "Python 3"
    },
    "language_info": {
      "name": "python"
    }
  },
  "cells": [
    {
      "cell_type": "markdown",
      "metadata": {
        "id": "view-in-github",
        "colab_type": "text"
      },
      "source": [
        "<a href=\"https://colab.research.google.com/github/tfdori/test/blob/master/Using_Git_Github.ipynb\" target=\"_parent\"><img src=\"https://colab.research.google.com/assets/colab-badge.svg\" alt=\"Open In Colab\"/></a>"
      ]
    },
    {
      "cell_type": "markdown",
      "source": [
        "# FONTOS: **BASH parancsok** (nem futtathatóak le Colaboratoryban)"
      ],
      "metadata": {
        "id": "aH2fJ1XK3XYo"
      }
    },
    {
      "cell_type": "markdown",
      "source": [
        "## **SSH kulcs generálás**"
      ],
      "metadata": {
        "id": "kFAkmwpE0ttU"
      }
    },
    {
      "cell_type": "markdown",
      "source": [
        "1. A helyi gépen lévő git-en be kell állítani a saját személyes (tehát nem a publikus) kulcsod.\n",
        "\n",
        "2. Győződj meg róla, hogy nincs már meglévő SSH kulcs (Github-bal kompatibilis, nem más szerverhez). Ez az .ssh mappában lehet (ls -la paranccsal ellenőrizd le a home könyvtáradban).\n",
        "Ha nincs, hozz létre egyet:"
      ],
      "metadata": {
        "id": "niK4yzRQ3lLF"
      }
    },
    {
      "cell_type": "code",
      "source": [
        "ssh-keygen -t rsa -b 4096 -C your_email@address.com"
      ],
      "metadata": {
        "id": "yyE0VBVl14Zh"
      },
      "execution_count": null,
      "outputs": []
    },
    {
      "cell_type": "markdown",
      "source": [
        "Be kell állítanod a kulcsot tartalmazó fájl nevét, helyét. Két kulcsot kapsz, egy **személyeset**, amit senkinek nem mutathatsz meg és egy **publikusat** (**.pub**).\n",
        "3. A publikus kulcsot töltsd fel a Github-ra (*Settings* -> *SSH and GSG keys* -> new SSH key).\n",
        "4. Csekkold le, hogy a helyi Git command line interface észleli-e a kulcsot és add hozzá a lokális Git-hez (**ezt minden alkalommal meg kell csinálni...**):\n"
      ],
      "metadata": {
        "id": "tk8nuofZ15Hj"
      }
    },
    {
      "cell_type": "code",
      "source": [
        "eval \"$(ssh-agent -s)\"\n",
        "ssh-add ~/.ssh/github_key/sshkey_filename\n",
        "> Identity added: /home/dori/.ssh/github_key/github_sshkey (your_email@address.com)\n",
        "\n",
        "# Test Your SSH Connection\n",
        "ssh -T git@github.com\n",
        "  # If it says \"Hi your-username! You've successfully authenticated\", you're good to go.\n",
        "  # If you see a warning about \"The authenticity of host 'github.com' can't be established,\" type \"yes\" and press Enter."
      ],
      "metadata": {
        "id": "DZAmnFqW3ChA"
      },
      "execution_count": null,
      "outputs": []
    },
    {
      "cell_type": "markdown",
      "source": [
        "## **Új fájl hozzáadása egy Github repositoryhoz**"
      ],
      "metadata": {
        "id": "z4sS27syyzBr"
      }
    },
    {
      "cell_type": "markdown",
      "source": [
        "**FONTOS!**\n",
        "Ebben az esetben mindenféleképpen hozz létre egy **ÚJ REPOSITORY-t**  Github-on és oda tedd (push) fel!"
      ],
      "metadata": {
        "id": "3ghPHjyE4spm"
      }
    },
    {
      "cell_type": "code",
      "source": [
        "git --version #lecsekkolni, hogy le van-e töltve\n",
        "\n",
        "git init  #git inicializálása a mappában, ahol vagy\n",
        "git add file.sh #file.sh hozzáadása git version control rendszerhez\n",
        "  # minden változtatás után kell!!!\n",
        "\n",
        "git commit -m \"creating file.sh\"\n",
        "git remote add origin https://github.com/USERNAME/YOUR-REPOSITORY.git\n",
        "  # create link to GitHub Repository\n",
        "git remote set-url origin git@github.com:USERNAME/YOUR-REPOSITORY.git\n",
        "  # HTTPS authentication need username+password, but since 2021 it is not available\n",
        "  # You have to swith to SSH Authentication\n",
        "git remote -v\n",
        "e.g.:\n",
        "> origin  git@github.com:tfdori/test2.git (fetch)\n",
        "> origin  git@github.com:tfdori/test2.git (push)\n",
        "git push origin master\n",
        "# itt MASTER kell, nem main !!!"
      ],
      "metadata": {
        "id": "mAkB8awCzAJv"
      },
      "execution_count": null,
      "outputs": []
    },
    {
      "cell_type": "markdown",
      "source": [
        "**FONTOS**\n",
        "Minden fájl módosítás után le kell futtatni a \"git add\" parancsot.\n",
        "Ha nem akarsz minden módosítás után git add-ot futtatni, van néhány gyorsabb megoldás:\n",
        "***git commit -a -m \"Üzenet\"***, aohl -a a *git add*-ot helyettesíti (viszont újonnan hozzáadott fájlokra nem tufof lefuttatni)."
      ],
      "metadata": {
        "id": "ld8aoTURfHc6"
      }
    },
    {
      "cell_type": "markdown",
      "source": [
        "## **Github repository klónozása helyi gépre**"
      ],
      "metadata": {
        "id": "qyen-mOQ4K-s"
      }
    },
    {
      "cell_type": "markdown",
      "source": [
        "Ha clone-nal leszeded a repository-dat, így tudod push-olni/frissíteni a Github-os repository-t:\n"
      ],
      "metadata": {
        "id": "5Dnft17F4QV9"
      }
    },
    {
      "cell_type": "code",
      "source": [
        "git clone git@github.com:USERNAME/YOUR_REPOSITORY.git\n",
        "vim file.txt\n",
        "git add file.txt\n",
        "  # ezt minden módosítás után kell!!!\n",
        "git commit -m \"I modified something\"\n",
        "\n",
        "git add -A #mindent hozzáad a staging areahoz\n",
        "git commit -m \"Updated everything\" # mindenhez ezt kommenteli\n",
        "\n",
        "git remote add origin https://github.com/USERNAME/YOUR-REPOSITORY.git\n",
        "git remote set-url origin git@github.com:USERNAME/YOUR-REPOSITORY.git\n",
        "git push origin main\n",
        "# Itt MAIN kell, nem master !!!\n",
        "# VAGY\n",
        "git push -u origin main # -u opció: alapbeállítás innentől ez a target place lesz"
      ],
      "metadata": {
        "id": "YvER877R4Vtm"
      },
      "execution_count": null,
      "outputs": []
    },
    {
      "cell_type": "markdown",
      "source": [
        "## **Git version control visszavonása a mappában**"
      ],
      "metadata": {
        "id": "sr0EI7kY6jUB"
      }
    },
    {
      "cell_type": "code",
      "source": [
        "rm -rf .git"
      ],
      "metadata": {
        "id": "TYNbKKck6nAl"
      },
      "execution_count": null,
      "outputs": []
    },
    {
      "cell_type": "markdown",
      "source": [
        "A Github-os repository nem fog törlődni. :)"
      ],
      "metadata": {
        "id": "ZYvUCTzR_PRQ"
      }
    },
    {
      "cell_type": "markdown",
      "source": [
        "## Branches (ágak)"
      ],
      "metadata": {
        "id": "24Zf_03ML35U"
      }
    },
    {
      "cell_type": "code",
      "source": [
        "git branch\n",
        "  # milyen ágak léteznek?\n",
        "git checkout Student_1\n",
        "  # másik ágra váltás\n",
        "git checkout -b Student_1\n",
        "  # -b opcióval\n",
        "  # Új ág létrehozása (Student_1)\n",
        "git branch -d BRANCH_NAME\n",
        "  # ág törlése\n",
        "\n",
        "vim file.txt\n",
        "git add file.txt\n",
        "  # ezt minden változtatás után kell!!!\n",
        "git status\n",
        "# Két script közötti különbségek lecsekkolása \"merge\"-lés előtt:\n",
        "git diff THE_OTHER_BRANCH\n",
        "git diff GIT_LOG_OUTPUT_CODE\n",
        "\n",
        "# Pushing, merge kezdeményezés\n",
        "# mielőtt Github-ra felteszed, meg kell adni, melyik ágra tegye fel\n",
        "git push origin MY_BRANCH_NAME\n",
        "# Beállítani ezt a célhelyet alapbeállításnak (--set-upstream = -u):\n",
        "git push --set-upstream origin MY_BRANCH_NAME\n",
        "# Egy \"pull-request\" jön létre ilyenkor Github-on a saját fiókodban. Ilyenkor manuálisan Githubon (megjegyzéseket írhatsz) vagy a command line-on keresztül véglegesítened kell.\n",
        "# # \"Create a pull request\" után mások is láthatják a kódot, megjegyzéseket írhatnak hozzá (\"File changed\")\n",
        "# A master ág tulajdonosának van joga végül \"merge\"elni\"\n"
      ],
      "metadata": {
        "id": "6ekqhd5yMgQT"
      },
      "execution_count": null,
      "outputs": []
    },
    {
      "cell_type": "markdown",
      "source": [
        "### Merging megjelenítése lokális git-en"
      ],
      "metadata": {
        "id": "9BnCg044_SM_"
      }
    },
    {
      "cell_type": "code",
      "source": [
        "git pull origin master\n",
        "                #melyik ág"
      ],
      "metadata": {
        "id": "keB-RR_vhEV0"
      },
      "execution_count": null,
      "outputs": []
    },
    {
      "cell_type": "markdown",
      "source": [
        "## **Comparison: `git push origin master` vs. `git merge`**\n",
        "| Command | What it does | Where it applies |\n",
        "|---------|------------|----------------|\n",
        "| `git push origin master` | Uploads local commits to the remote `master` branch | **Remote repository (GitHub, GitLab, etc.)** |\n",
        "| `git merge <branch>` | Integrates changes from another branch into the current branch | **Local repository** |\n",
        "\n",
        "---\n",
        "\n",
        "## **1️⃣ `git push origin master` – Pushing Changes to Remote**\n",
        "\n",
        "- This command **sends your local commits** on the `master` branch to the **remote repository** (e.g., GitHub).\n",
        "- It **does not affect other branches**—only updates `master` on GitHub.\n",
        "\n",
        "### **When to Use It?**\n",
        "- After making and committing changes locally, you push them to **share with others** or back up your work.\n",
        "- If no one else has made conflicting changes, the push will succeed.\n",
        "\n",
        "---\n",
        "\n",
        "## **2️⃣ `git merge <branch>` – Merging Two Branches**\n",
        "- `git merge` takes the **changes from another branch** and integrates them into the **current branch**.\n",
        "- It is a **local operation**—it does not affect the remote repository unless you push afterward.\n",
        "\n",
        "### **When to Use It?**\n",
        "- When you want to **combine work** from different branches into one.\n",
        "- If there are conflicts, Git will ask you to **resolve them manually**.\n",
        "- After merging, you **still need to push** to update the remote repository.\n",
        "  - BUT! you **won't get a pull request**, because you are in the MASTER branch on the local Git.\n",
        "\n",
        "git merge feature-branch  # Merge the changes from feature-branch into master\n",
        "git push origin master  # Push the updated master branch to GitHub\n"
      ],
      "metadata": {
        "id": "hG2g8gGqso_Z"
      }
    },
    {
      "cell_type": "markdown",
      "source": [
        "## **Git visszavonása**"
      ],
      "metadata": {
        "id": "iPMlFXTxwGnB"
      }
    },
    {
      "cell_type": "markdown",
      "source": [
        "  Visszavonás a staging area-ról (git commit utáni állapot):"
      ],
      "metadata": {
        "id": "-sf1lMYzwK32"
      }
    },
    {
      "cell_type": "code",
      "source": [
        "vim file.tx\n",
        "git add file.txt\n",
        "git commit -m \"installed step added\" # but it is a mistake\n",
        "git reset HEAD~1\n",
        "  # az utolsó commit-ra vonatkozik a HEAD\n",
        "  # ahhoz képest visszamegy 1 commit-tal\n",
        "git reset commit_kodja_git_log_parancsra\n",
        "  # pl. 8f26e83efb978c5da4ae27efc37dbb5c25f035c9\n",
        "git reset --hard 8f26e83efb978c5da4ae27efc37dbb5c25f035c9\n",
        "  # mindent töröl(!), ami ez előtti commit\n",
        "\n",
        "git reset file.txt"
      ],
      "metadata": {
        "id": "PV0AMcuEwQR_"
      },
      "execution_count": null,
      "outputs": []
    },
    {
      "cell_type": "markdown",
      "source": [
        "## **Github hasznos opciók**"
      ],
      "metadata": {
        "id": "SAm1H6ZNz6N7"
      }
    },
    {
      "cell_type": "markdown",
      "source": [
        "1. **Fork** - Másolatot hoz létre valaki más repository-járól a saját fiókba, lehetővé téve a kód módosítását anélkül, hogy az eredeti repository-ját befolyásolná.\n",
        "2. **Clone** - Egy repositoryt másol át a helyi gépére, így offline is dolgozhat rajta.\n",
        "3. **Issues** - Hibák bejelentése, funkciók kérése vagy egy projekttel kapcsolatos problémák megvitatása.\n",
        "4. **Star** - A tárolók elmentése a profiljába a későbbi hivatkozáshoz, és segít a népszerű projektek felfedezésében.\n",
        "5. **Watch** - Értesítést kap a tárolóhelyen történt változásokról.\n",
        "6. **GitHub Codespaces** - Felhőalapú fejlesztői környezetet biztosít (korlátozott ingyenes hozzáférés diákoknak).\n",
        "7. **GitHub Actions** - Automatizálja az olyan feladatokat, mint a tesztelés és a telepítés.\n",
        "8. **GitHub Pages** - Egyszerű statikus weboldalak hosztolása közvetlenül a tárolókból (hasznos projektdokumentációhoz vagy portfóliókhoz).\n",
        "9. **Gist** - Kódrészletek megosztása és tárolása.\n",
        "10. **Projects & Wikis**- Segít a fejlesztési munka megszervezésében és a projektek dokumentálásában.\n",
        "11. **GitHub oktatási csomag** - Ingyenes forrásokat, képzést és profi szintű hozzáférést biztosít a diákok számára az eszközökhöz. Érvényes diák e-mail címmel lehet jelentkezni."
      ],
      "metadata": {
        "id": "-Vpf-9mwz-ec"
      }
    }
  ]
}